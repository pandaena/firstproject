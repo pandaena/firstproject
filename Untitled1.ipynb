{
 "cells": [
  {
   "cell_type": "code",
   "execution_count": 1,
   "id": "0315f26f",
   "metadata": {},
   "outputs": [],
   "source": [
    "import os\n",
    "import torch\n",
    "from torch.utils.data import Dataset, DataLoader\n",
    "from PIL import Image\n",
    "from torchsummary import summary\n",
    "import torch.nn as nn\n",
    "import torchvision.transforms as transforms\n",
    "import matplotlib.pyplot as plt\n",
    "import numpy as np\n",
    "import glob\n",
    "import random\n",
    "import torchvision\n",
    "import cv2"
   ]
  },
  {
   "cell_type": "code",
   "execution_count": null,
   "id": "f927950f",
   "metadata": {},
   "outputs": [],
   "source": []
  },
  {
   "cell_type": "code",
   "execution_count": 2,
   "id": "283d26dd",
   "metadata": {},
   "outputs": [
    {
     "name": "stderr",
     "output_type": "stream",
     "text": [
      "C:\\Users\\admin\\anaconda3\\lib\\site-packages\\torchvision\\models\\_utils.py:208: UserWarning: The parameter 'pretrained' is deprecated since 0.13 and may be removed in the future, please use 'weights' instead.\n",
      "  warnings.warn(\n",
      "C:\\Users\\admin\\anaconda3\\lib\\site-packages\\torchvision\\models\\_utils.py:223: UserWarning: Arguments other than a weight enum or `None` for 'weights' are deprecated since 0.13 and may be removed in the future. The current behavior is equivalent to passing `weights=ResNet50_Weights.IMAGENET1K_V1`. You can also use `weights=ResNet50_Weights.DEFAULT` to get the most up-to-date weights.\n",
      "  warnings.warn(msg)\n"
     ]
    }
   ],
   "source": [
    "device = 'cuda' if torch.cuda.is_available() else 'cpu'\n",
    "model = torchvision.models.resnet50(pretrained=True)\n",
    "num_ftrs = model.fc.in_features\n",
    "model.fc = nn.Sequential(\n",
    "    nn.Dropout(0.5),\n",
    "    nn.Linear(num_ftrs, 1024),\n",
    "    nn.Dropout(0.2),\n",
    "    nn.Linear(1024, 512),\n",
    "    nn.Dropout(0.1),\n",
    "    nn.Linear(512, 1),\n",
    "    nn.Sigmoid()\n",
    ")"
   ]
  },
  {
   "cell_type": "code",
   "execution_count": 3,
   "id": "d8549a28",
   "metadata": {},
   "outputs": [
    {
     "data": {
      "text/plain": [
       "<All keys matched successfully>"
      ]
     },
     "execution_count": 3,
     "metadata": {},
     "output_type": "execute_result"
    }
   ],
   "source": [
    "# model_state_dict = torch.load('injurymodel1.pth', map_location=device)\n",
    "model_state_dict = torch.load('injurymodel1.pth', map_location=torch.device('cpu'))\n",
    "model.load_state_dict(model_state_dict)\n",
    "# model.to('cuda')"
   ]
  },
  {
   "cell_type": "code",
   "execution_count": null,
   "id": "0121abd7",
   "metadata": {},
   "outputs": [],
   "source": [
    "import numpy as np\n",
    "img = Image.open('C:/Users/admin/Desktop/injury/injurydataset/wound0.jpg').convert('RGB')\n",
    "img = np.array(img)\n",
    "plt.imshow(img)"
   ]
  },
  {
   "cell_type": "code",
   "execution_count": 4,
   "id": "9ce247a4",
   "metadata": {},
   "outputs": [
    {
     "name": "stdout",
     "output_type": "stream",
     "text": [
      "C:/Users/admin/Desktop/injury/injurydataset/wound4684.jpg\n"
     ]
    }
   ],
   "source": [
    "import os\n",
    "import random\n",
    "path = 'C:/Users/admin/Desktop/injury/injurydataset/'\n",
    "file_list = os.listdir(path)\n",
    "randnum = random.randint(0, len(file_list))\n",
    "print(path + file_list[randnum])\n",
    "# with torch.no_grad():\n",
    "#     model.eval()\n",
    "#     img = Image.open(path + file_list[randnum])\n",
    "#     transform = transforms.ToTensor()\n",
    "#     inputs = transform(img)\n",
    "#     inputs = inputs.unsqueeze(0)\n",
    "\n",
    "#     outputs = model(inputs)\n",
    "\n",
    "\n",
    "#     result = outputs.cpu()\n",
    "#     result[result >= 0.5] = 1\n",
    "#     result[result < 0.5] = 0\n",
    "#     print(result)\n",
    "#     plt.imshow(img)"
   ]
  },
  {
   "cell_type": "code",
   "execution_count": 42,
   "id": "50a63e57",
   "metadata": {},
   "outputs": [
    {
     "name": "stdout",
     "output_type": "stream",
     "text": [
      "wound3319.jpg\n"
     ]
    }
   ],
   "source": [
    "import random\n",
    "path = 'C:/Users/admin/Desktop/injury/injurydataset/'\n",
    "file_list = os.listdir(path)\n",
    "randnum = random.randint(0, len(file_list))\n",
    "print(file_list[randnum])"
   ]
  },
  {
   "cell_type": "code",
   "execution_count": null,
   "id": "77d1aa8a",
   "metadata": {},
   "outputs": [],
   "source": []
  },
  {
   "cell_type": "code",
   "execution_count": 13,
   "id": "97657a56",
   "metadata": {},
   "outputs": [
    {
     "name": "stdout",
     "output_type": "stream",
     "text": [
      "(128, 128, 3)\n",
      "torch.Size([3, 128, 128])\n",
      "wound\n",
      "(128, 128, 3)\n",
      "torch.Size([3, 128, 128])\n",
      "wound\n"
     ]
    }
   ],
   "source": [
    "from datetime import datetime\n",
    "\n",
    "classes = {0:'wound', 1:'burn'}\n",
    "transform = transforms.ToTensor()\n",
    "# 카메라 열기\n",
    "cap = cv2.VideoCapture(0)\n",
    "\n",
    "past_time = datetime.now()\n",
    "class_name = 'None'\n",
    "while True:\n",
    "    # 프레임 읽어오기\n",
    "    ret, frame = cap.read()\n",
    "    now_time = datetime.now()\n",
    "    time_gap = now_time - past_time\n",
    "    # 이미지 전처리하기\n",
    "    time_gap = time_gap.seconds\n",
    "    # print(time_gap)\n",
    "    if time_gap > 5:\n",
    "        img = cv2.resize(frame, (128, 128))\n",
    "        inputs = transform(img)\n",
    "        inputs = inputs.unsqueeze(0)\n",
    "\n",
    "        # 예측하기\n",
    "        outputs = model(inputs)\n",
    "\n",
    "        # 결과 출력하기\n",
    "        result = outputs.clone().detach()\n",
    "        result[result >= 0.5] = 1\n",
    "        result[result < 0.5] = 0\n",
    "        result = result.item()\n",
    "        class_name = classes[result]\n",
    "        print(class_name)\n",
    "        # cv2.putText(frame, class_name, (50, 50), cv2.FONT_HERSHEY_SIMPLEX, 1, (0, 0, 255), 2)\n",
    "        past_time = datetime.now()\n",
    "\n",
    "#\n",
    "#     # 화면에 출력하기\n",
    "    cv2.putText(frame, class_name, (50, 50), cv2.FONT_HERSHEY_SIMPLEX, 1, (0, 0, 255), 2)\n",
    "    cv2.imshow('Object detection', frame)\n",
    "\n",
    "    # time.sleep(5)\n",
    "    # q를 누르면 종료하기\n",
    "    if cv2.waitKey(1) == ord('q'):\n",
    "        break\n",
    "\n",
    "# 종료하기\n",
    "cap.release()\n",
    "cv2.destroyAllWindows()"
   ]
  },
  {
   "cell_type": "code",
   "execution_count": null,
   "id": "98f5cb62",
   "metadata": {},
   "outputs": [],
   "source": []
  }
 ],
 "metadata": {
  "kernelspec": {
   "display_name": "Python 3 (ipykernel)",
   "language": "python",
   "name": "python3"
  },
  "language_info": {
   "codemirror_mode": {
    "name": "ipython",
    "version": 3
   },
   "file_extension": ".py",
   "mimetype": "text/x-python",
   "name": "python",
   "nbconvert_exporter": "python",
   "pygments_lexer": "ipython3",
   "version": "3.9.12"
  }
 },
 "nbformat": 4,
 "nbformat_minor": 5
}
