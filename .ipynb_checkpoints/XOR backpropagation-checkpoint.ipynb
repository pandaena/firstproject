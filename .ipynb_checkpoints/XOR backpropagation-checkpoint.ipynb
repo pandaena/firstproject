{
 "cells": [
  {
   "cell_type": "code",
   "execution_count": 2,
   "id": "43a87faa",
   "metadata": {},
   "outputs": [
    {
     "name": "stdout",
     "output_type": "stream",
     "text": [
      "a1: \n",
      "[[0 0 1 1]\n",
      " [0 1 0 1]]\n",
      "y: \n",
      "[[0 1 1 0]]\n"
     ]
    }
   ],
   "source": [
    "import numpy as np\n",
    "\n",
    "a1 = np.array([0, 0, 1, 1, 0, 1, 0, 1]).reshape(2,4)\n",
    "y = np.array([0, 1, 1, 0]).reshape(1,4)\n",
    "\n",
    "print(\"a1: \\n{}\".format(a1))\n",
    "print(\"y: \\n{}\".format(y))"
   ]
  },
  {
   "cell_type": "code",
   "execution_count": 3,
   "id": "1f129a03",
   "metadata": {},
   "outputs": [],
   "source": [
    "def init_random_parameters (num_hidden = 2, deviation = 5):\n",
    "\n",
    "    W1  = np.random.rand(2,num_hidden)*deviation\n",
    "    b1 = np.random.random((num_hidden,1))*deviation\n",
    "    W2  = np.random.rand(num_hidden,1)*deviation\n",
    "    b2 = np.random.random((1,1))*deviation\n",
    "    return W1, b1, W2, b2\n",
    "\n",
    "W1, b1, W2, b2 = init_random_parameters()"
   ]
  },
  {
   "cell_type": "code",
   "execution_count": 4,
   "id": "055d47e6",
   "metadata": {},
   "outputs": [
    {
     "name": "stdout",
     "output_type": "stream",
     "text": [
      "W1: [[2.28867636 4.2099422 ]\n",
      " [0.631638   0.96619062]]\n",
      "==================================================\n",
      "b1: [[2.76539566]\n",
      " [3.0561892 ]]\n",
      "==================================================\n",
      "W2: [[2.47502342]\n",
      " [2.15521814]]\n",
      "==================================================\n",
      "b2: [[0.55515991]]\n",
      "==================================================\n"
     ]
    }
   ],
   "source": [
    "print(\"W1: {}\".format(W1))\n",
    "print(\"==================================================\")\n",
    "print(\"b1: {}\".format(b1))\n",
    "print(\"==================================================\")\n",
    "print(\"W2: {}\".format(W2))\n",
    "print(\"==================================================\")\n",
    "print(\"b2: {}\".format(b2))\n",
    "print(\"==================================================\")"
   ]
  },
  {
   "cell_type": "code",
   "execution_count": 5,
   "id": "d2a21fc7",
   "metadata": {},
   "outputs": [],
   "source": [
    "def affine (W, a, bias):\n",
    "    return np.dot(W.T, a) + bias\n",
    "\n",
    "def sigmoid (y):\n",
    "    return 1./(1+np.exp(-1*y))"
   ]
  },
  {
   "cell_type": "markdown",
   "id": "e4ee5227",
   "metadata": {},
   "source": [
    "# layer1"
   ]
  },
  {
   "cell_type": "code",
   "execution_count": 7,
   "id": "ae817b97",
   "metadata": {
    "scrolled": true
   },
   "outputs": [
    {
     "name": "stdout",
     "output_type": "stream",
     "text": [
      "Z1: \n",
      "[[2.76539566 3.39703366 5.05407202 5.68571002]\n",
      " [3.0561892  4.02237982 7.26613141 8.23232202]]\n",
      "a2: \n",
      "[[0.94077697 0.9676117  0.9936572  0.99661736]\n",
      " [0.95504898 0.98240484 0.99930168 0.99973415]]\n"
     ]
    }
   ],
   "source": [
    "Z1 = affine(W1, a1, b1)\n",
    "a2 = sigmoid(Z1)\n",
    "print(\"Z1: \\n{}\".format(Z1))\n",
    "print(\"a2: \\n{}\".format(a2))"
   ]
  },
  {
   "cell_type": "markdown",
   "id": "17c31267",
   "metadata": {},
   "source": [
    "# layer2"
   ]
  },
  {
   "cell_type": "code",
   "execution_count": 8,
   "id": "b6346549",
   "metadata": {},
   "outputs": [
    {
     "name": "stdout",
     "output_type": "stream",
     "text": [
      "Z2: \n",
      "[[4.94194384 5.06731828 5.16819786 5.1764564 ]]\n",
      "a3: \n",
      "[[0.99290992 0.99374014 0.99433742 0.99438374]]\n"
     ]
    }
   ],
   "source": [
    "Z2 = affine(W2, a2, b2)\n",
    "a3 = sigmoid(Z2)\n",
    "print(\"Z2: \\n{}\".format(Z2))\n",
    "print(\"a3: \\n{}\".format(a3))"
   ]
  },
  {
   "cell_type": "code",
   "execution_count": 9,
   "id": "1e9139f9",
   "metadata": {},
   "outputs": [
    {
     "name": "stdout",
     "output_type": "stream",
     "text": [
      "[[9.85870117e-01 3.91858198e-05 3.20647566e-05 9.88799013e-01]]\n",
      "1.974740380299596\n"
     ]
    }
   ],
   "source": [
    "loss = (a3 - y)*(a3 - y)\n",
    "print(loss)\n",
    "print(np.sum(loss))"
   ]
  },
  {
   "cell_type": "code",
   "execution_count": null,
   "id": "61b57269",
   "metadata": {},
   "outputs": [],
   "source": []
  },
  {
   "cell_type": "code",
   "execution_count": null,
   "id": "6c35eefb",
   "metadata": {},
   "outputs": [],
   "source": []
  },
  {
   "cell_type": "markdown",
   "id": "4be6effd",
   "metadata": {},
   "source": [
    "# 역전파 - 1"
   ]
  },
  {
   "cell_type": "markdown",
   "id": "e2b7b4e3",
   "metadata": {},
   "source": [
    "$ \\frac{\\delta C0}{\\delta w2} = a2 * \\sigma(Z2)(1-\\sigma(Z2)) * 2(a3 - y) $\n",
    "\n",
    "### sigmoid 미분\n",
    "\n",
    "$ \\frac{d}{dx}sigmoid(x) = \\frac{d}{dx}(1+e^{-x})^{-1} $\n",
    "\n",
    "$ = (-1)\\frac{1}{(1+e^{-x})^2} \\frac{d}{dx}(1+e^{-x}) $\n",
    "\n",
    "$ = (-1)\\frac{1}{(1+e^{-x})^2} (0+e^{-x}) \\frac{d}{dx}(-x) $\n",
    "\n",
    "$ = (-1)\\frac{1}{(1+e^{-x})^2} e^{-x} (-1) $\n",
    "\n",
    "$ = \\frac{e^{-x}}{(1+e^{-x})^2} $\n",
    "\n",
    "$ = \\frac{1+e^{-x}-1}{(1+e^{-x})^2} $\n",
    "\n",
    "$ = \\frac{(1+e^{-x})}{(1+e^{-x})^2} - \\frac{1}{(1+e^{-x})^2} $\n",
    "\n",
    "$ = \\frac{1}{1+e^{-x}} - \\frac{1}{(1+e^{-x})^2} $\n",
    "\n",
    "$ = \\frac{1}{1+e^{-x}}(1 - \\frac{1}{1+e^{-x}}) $\n",
    "\n",
    "$ = simgmoid(x)(1 - sigmoid(x)) $"
   ]
  },
  {
   "cell_type": "code",
   "execution_count": 10,
   "id": "21a259f7",
   "metadata": {},
   "outputs": [
    {
     "data": {
      "text/plain": [
       "array([[0.94077697, 0.9676117 , 0.9936572 , 0.99661736],\n",
       "       [0.95504898, 0.98240484, 0.99930168, 0.99973415]])"
      ]
     },
     "execution_count": 10,
     "metadata": {},
     "output_type": "execute_result"
    }
   ],
   "source": [
    "a2"
   ]
  },
  {
   "cell_type": "code",
   "execution_count": 11,
   "id": "def4d2ee",
   "metadata": {},
   "outputs": [
    {
     "data": {
      "text/plain": [
       "array([[0.00703981, 0.00622067, 0.00563051, 0.00558472]])"
      ]
     },
     "execution_count": 11,
     "metadata": {},
     "output_type": "execute_result"
    }
   ],
   "source": [
    "dadz = sigmoid(Z2)*(1-sigmoid(Z2))\n",
    "dadz"
   ]
  },
  {
   "cell_type": "code",
   "execution_count": 12,
   "id": "2abb9ee1",
   "metadata": {},
   "outputs": [
    {
     "data": {
      "text/plain": [
       "array([[ 1.98581985, -0.01251972, -0.01132515,  1.98876747]])"
      ]
     },
     "execution_count": 12,
     "metadata": {},
     "output_type": "execute_result"
    }
   ],
   "source": [
    "dcda = 2*(a3 - y)\n",
    "dcda"
   ]
  },
  {
   "cell_type": "code",
   "execution_count": 25,
   "id": "bddb211e",
   "metadata": {},
   "outputs": [
    {
     "name": "stdout",
     "output_type": "stream",
     "text": [
      "dW2: \n",
      "[[0.02408064]\n",
      " [0.02431413]]\n",
      "db2: \n",
      "[[0.02494486]]\n"
     ]
    }
   ],
   "source": [
    "# W2 \n",
    "dW2 = np.dot(a2, (dadz * dcda).T)\n",
    "\n",
    "# b2\n",
    "db2 = np.dot(dadz, dcda.T)\n",
    "\n",
    "print(\"dW2: \\n{}\".format(dW2))\n",
    "print(\"db2: \\n{}\".format(db2))"
   ]
  },
  {
   "cell_type": "markdown",
   "id": "307ff3ea",
   "metadata": {},
   "source": [
    "# 역전파 - 2\n"
   ]
  },
  {
   "cell_type": "code",
   "execution_count": 15,
   "id": "50b49729",
   "metadata": {},
   "outputs": [
    {
     "data": {
      "text/plain": [
       "array([[0, 0, 1, 1],\n",
       "       [0, 1, 0, 1]])"
      ]
     },
     "execution_count": 15,
     "metadata": {},
     "output_type": "execute_result"
    }
   ],
   "source": [
    "a1"
   ]
  },
  {
   "cell_type": "code",
   "execution_count": 16,
   "id": "ecc105b3",
   "metadata": {},
   "outputs": [
    {
     "data": {
      "text/plain": [
       "array([[0.05571566, 0.0313393 , 0.00630257, 0.0033712 ],\n",
       "       [0.04293042, 0.01728557, 0.00069783, 0.00026578]])"
      ]
     },
     "execution_count": 16,
     "metadata": {},
     "output_type": "execute_result"
    }
   ],
   "source": [
    "# sigmoid'(Z1)\n",
    "dadz2 = sigmoid(Z1)*(1-sigmoid(Z1))\n",
    "dadz2"
   ]
  },
  {
   "cell_type": "markdown",
   "id": "a558e83c",
   "metadata": {},
   "source": [
    "$ \\frac{\\delta C0}{\\delta a2} $"
   ]
  },
  {
   "cell_type": "code",
   "execution_count": 17,
   "id": "73c6d27e",
   "metadata": {},
   "outputs": [
    {
     "data": {
      "text/plain": [
       "array([[ 0.0346003 , -0.00019276, -0.00015782,  0.02748938],\n",
       "       [ 0.03012949, -0.00016785, -0.00013743,  0.02393739]])"
      ]
     },
     "execution_count": 17,
     "metadata": {},
     "output_type": "execute_result"
    }
   ],
   "source": [
    "dcda2 = W2 * dadz * dcda\n",
    "dcda2\n",
    "# = np.dot(W2, (dadz * dcda))"
   ]
  },
  {
   "cell_type": "code",
   "execution_count": 26,
   "id": "367972b1",
   "metadata": {},
   "outputs": [
    {
     "name": "stdout",
     "output_type": "stream",
     "text": [
      "dW1: \n",
      "[[9.16774715e-05 6.26609894e-06]\n",
      " [8.66312818e-05 3.46060918e-06]]\n",
      "db1: \n",
      "[[0.00201342]\n",
      " [0.00129684]]\n"
     ]
    }
   ],
   "source": [
    "dW1 = np.dot(a1, (dadz2* dcda2).T)\n",
    "db1 = np.sum(dadz2* dcda2, axis=1).reshape(2,1)\n",
    "print(\"dW1: \\n{}\".format(dW1))\n",
    "print(\"db1: \\n{}\".format(db1))"
   ]
  },
  {
   "cell_type": "code",
   "execution_count": null,
   "id": "f854d382",
   "metadata": {},
   "outputs": [],
   "source": []
  },
  {
   "cell_type": "markdown",
   "id": "e5406155",
   "metadata": {},
   "source": [
    "# 변화된 가중치 적용"
   ]
  },
  {
   "cell_type": "code",
   "execution_count": 21,
   "id": "54ab350d",
   "metadata": {},
   "outputs": [],
   "source": [
    "W1 -= dW1\n",
    "b1 -= db1\n",
    "W2 -= dW2\n",
    "b2 -= db2"
   ]
  },
  {
   "cell_type": "code",
   "execution_count": 22,
   "id": "4d8eec6c",
   "metadata": {},
   "outputs": [],
   "source": [
    "# layer1\n",
    "Z1 = affine(W1, a1, b1)\n",
    "a2 = sigmoid(Z1)\n",
    "\n",
    "# layer2\n",
    "Z2 = affine(W2, a2, b2)\n",
    "a3 = sigmoid(Z2)"
   ]
  },
  {
   "cell_type": "code",
   "execution_count": 23,
   "id": "8ae24893",
   "metadata": {},
   "outputs": [
    {
     "name": "stdout",
     "output_type": "stream",
     "text": [
      "[[9.84839023e-01 4.52436868e-05 3.70886554e-05 9.87955174e-01]]\n",
      "1.972876529195788\n"
     ]
    }
   ],
   "source": [
    "loss = (a3 - y)*(a3 - y)\n",
    "print(loss)\n",
    "print(np.sum(loss))"
   ]
  },
  {
   "cell_type": "markdown",
   "id": "e4a17b29",
   "metadata": {},
   "source": [
    "loss: [[9.85870117e-01, 3.91858198e-05, 3.20647566e-05, 9.88799013e-01]]\n",
    "\n",
    "loss_sum: 1.974740380299596"
   ]
  },
  {
   "cell_type": "markdown",
   "id": "ae81d03a",
   "metadata": {},
   "source": [
    "# 100번 반복"
   ]
  },
  {
   "cell_type": "code",
   "execution_count": 10,
   "id": "02adcb0f",
   "metadata": {},
   "outputs": [
    {
     "name": "stdout",
     "output_type": "stream",
     "text": [
      "[[0.47508214 0.50635671 0.51738379 0.52008953]]\n",
      "[array([[2.38312356, 4.21593361],\n",
      "        [1.22168177, 1.1844251 ]]) array([[1.95699193],\n",
      "                                          [2.63781039]])\n",
      " array([[1.14705575],\n",
      "        [0.64057604]]) array([[-1.70263366]])]\n"
     ]
    }
   ],
   "source": [
    "import numpy as np\n",
    "\n",
    "W1 = np.array([[2.28867636, 4.2099422 ],[0.631638, 0.96619062]])\n",
    "b1 = np.array([[2.76539566], [3.0561892 ]])\n",
    "W2 = np.array([[2.47502342], [2.15521814]])\n",
    "b2 = np.array([[0.55515991]])\n",
    "params = W1, b1, W2, b2\n",
    "\n",
    "new_params, loss_trace, y_hat_predict = optimize(params, 0.1, 100, 0)\n",
    "print(y_hat_predict)\n",
    "print(new_params)"
   ]
  },
  {
   "cell_type": "code",
   "execution_count": 11,
   "id": "18853bc2",
   "metadata": {},
   "outputs": [
    {
     "data": {
      "image/png": "[encoded data removed]",
      "text/plain": [
       "<Figure size 432x288 with 1 Axes>"
      ]
     },
     "metadata": {
      "needs_background": "light"
     },
     "output_type": "display_data"
    }
   ],
   "source": [
    "import matplotlib.pyplot as plt\n",
    "plt.plot(loss_trace)\n",
    "plt.ylabel('loss')\n",
    "plt.xlabel('iterations (per hundreds)')\n",
    "plt.show()"
   ]
  },
  {
   "cell_type": "code",
   "execution_count": null,
   "id": "8138bdeb",
   "metadata": {},
   "outputs": [],
   "source": []
  },
  {
   "cell_type": "code",
   "execution_count": null,
   "id": "6b7e0a38",
   "metadata": {},
   "outputs": [],
   "source": []
  },
  {
   "cell_type": "code",
   "execution_count": null,
   "id": "706710c3",
   "metadata": {},
   "outputs": [],
   "source": []
  },
  {
   "cell_type": "code",
   "execution_count": null,
   "id": "019896ec",
   "metadata": {},
   "outputs": [],
   "source": []
  },
  {
   "cell_type": "code",
   "execution_count": null,
   "id": "69a66162",
   "metadata": {},
   "outputs": [],
   "source": []
  },
  {
   "cell_type": "code",
   "execution_count": null,
   "id": "c4e9dc28",
   "metadata": {},
   "outputs": [],
   "source": []
  },
  {
   "cell_type": "code",
   "execution_count": 37,
   "id": "15355df4",
   "metadata": {},
   "outputs": [],
   "source": [
    "# 변화\n",
    "dW1 = np.array([[9.16774715e-05, 6.26609894e-06], [8.66312818e-05, 3.46060918e-06]])\n",
    "db1 = np.array([[0.00201342], [0.00129684]])\n",
    "dW2 = np.array([[0.02408064], [0.02431413]])\n",
    "db2 = np.array([[0.02494486]])\n",
    "# dpp = dW1, db1, dW2, db2\n",
    "# dpp"
   ]
  },
  {
   "cell_type": "code",
   "execution_count": 36,
   "id": "ea50602d",
   "metadata": {},
   "outputs": [],
   "source": [
    "import numpy as np\n",
    "W1 = np.array([[2.28867636, 4.2099422 ],[0.631638, 0.96619062]])\n",
    "b1 = np.array([[2.76539566], [3.0561892 ]])\n",
    "W2 = np.array([[2.47502342], [2.15521814]])\n",
    "b2 = np.array([[0.55515991]])\n",
    "# pp = W1, b1, W2, b2\n",
    "# for i, j in zip(pp, dpp):\n",
    "#     i += -j\n",
    "#     print(i)"
   ]
  },
  {
   "cell_type": "markdown",
   "id": "cdfdf484",
   "metadata": {},
   "source": [
    "# 반복"
   ]
  },
  {
   "cell_type": "code",
   "execution_count": 5,
   "id": "e57bce1f",
   "metadata": {},
   "outputs": [
    {
     "name": "stdout",
     "output_type": "stream",
     "text": [
      "a1: \n",
      "[[0 0 1 1]\n",
      " [0 1 0 1]]\n",
      "y: \n",
      "[[0 1 1 0]]\n"
     ]
    }
   ],
   "source": [
    "import numpy as np\n",
    "\n",
    "a1 = np.array([0, 0, 1, 1, 0, 1, 0, 1]).reshape(2,4)\n",
    "y = np.array([0, 1, 1, 0]).reshape(1,4)\n",
    "\n",
    "print(\"a1: \\n{}\".format(a1))\n",
    "print(\"y: \\n{}\".format(y))"
   ]
  },
  {
   "cell_type": "code",
   "execution_count": 2,
   "id": "5164fdaa",
   "metadata": {},
   "outputs": [],
   "source": [
    "def affine (W, a, bias):\n",
    "    return np.dot(W.T, a) + bias\n",
    "\n",
    "def sigmoid (y):\n",
    "    return 1./(1+np.exp(-1*y))\n",
    "\n",
    "def loss_eval(_params):\n",
    "    W1, d1, W2, d2 = _params\n",
    "    \n",
    "    Z1 = affine(W1, a1, b1)\n",
    "    a2 = sigmoid(Z1)\n",
    "    \n",
    "    Z2 = affine(W2, a2, b2)\n",
    "    a3 = sigmoid(Z2)\n",
    "    # a3 = y_hat\n",
    "    \n",
    "    loss = (a3 - y)*(a3 - y)\n",
    "    loss_sum = np.sum(loss)\n",
    "    return Z1, a2, Z2, a3, loss_sum\n",
    "\n",
    "def get_gradients(_params):\n",
    "    W1, d1, W2, d2 = _params\n",
    "    m = a1.shape[1]\n",
    "    \n",
    "    Z1 ,a2, Z2, a3, loss = loss_eval([W1, d1, W2, d2])\n",
    "    \n",
    "    # BackPropagation - 1\n",
    "    dadz = sigmoid(Z2)*(1-sigmoid(Z2))\n",
    "    dcda = 2*(a3 - y)\n",
    "    dW2 = np.dot(a2, (dadz * dcda).T)\n",
    "    db2 = np.dot(dadz, dcda.T)\n",
    "    \n",
    "    # BackPropagation - 2\n",
    "    dadz2 = sigmoid(Z1)*(1-sigmoid(Z1))\n",
    "    dcda2 = W2 * dadz * dcda\n",
    "    dW1 = np.dot(a1, (dadz2* dcda2).T)\n",
    "    db1 = np.sum(dadz2* dcda2, axis=1).reshape(2,1)\n",
    "    \n",
    "    return [dW1, db1, dW2, db2], loss\n",
    "\n",
    "def optimize (_params, learning_rate = 0.1, iteration = 1000, sample_size = 0):\n",
    "\n",
    "    params = np.copy(_params)\n",
    "\n",
    "    loss_trace = []\n",
    "\n",
    "    for epoch in range(iteration):\n",
    "        # get_gradients\n",
    "        dparams, loss = get_gradients(params)\n",
    "\n",
    "        for param, dparam in zip(params, dparams):\n",
    "            param += -dparam\n",
    "\n",
    "#         if (epoch % 100 == 0):\n",
    "#             loss_trace.append(loss)\n",
    "        loss_trace.append(loss)\n",
    "    \n",
    "    _, _, _, y_hat_predict, _ = loss_eval(params)\n",
    "\n",
    "    return params, loss_trace, y_hat_predict\n"
   ]
  },
  {
   "cell_type": "code",
   "execution_count": 78,
   "id": "b098a831",
   "metadata": {
    "scrolled": true
   },
   "outputs": [
    {
     "name": "stdout",
     "output_type": "stream",
     "text": [
      "[[0.00617302 0.9907246  0.49995977 0.50020955]]\n",
      "[array([[11.29524558, 10.15866222],\n",
      "        [ 6.6608573 , -1.67990736]]) array([[-1.36303007],\n",
      "                                            [ 0.66978775]])\n",
      " array([[ 9.11731283],\n",
      "        [-6.43385863]]) array([[-2.68329975]])]\n"
     ]
    }
   ],
   "source": [
    "W1 = np.array([[2.28867636, 4.2099422 ],[0.631638, 0.96619062]])\n",
    "b1 = np.array([[2.76539566], [3.0561892 ]])\n",
    "W2 = np.array([[2.47502342], [2.15521814]])\n",
    "b2 = np.array([[0.55515991]])\n",
    "params = W1, b1, W2, b2\n",
    "new_params, loss_trace, y_hat_predict = optimize(params, 0.1, 10000, 0)\n",
    "print(y_hat_predict)\n",
    "print(new_params)\n",
    "# print(loss_trace)"
   ]
  },
  {
   "cell_type": "code",
   "execution_count": null,
   "id": "7cee4f82",
   "metadata": {},
   "outputs": [],
   "source": []
  },
  {
   "cell_type": "code",
   "execution_count": null,
   "id": "382a7687",
   "metadata": {},
   "outputs": [],
   "source": []
  },
  {
   "cell_type": "code",
   "execution_count": null,
   "id": "6f8bde90",
   "metadata": {},
   "outputs": [],
   "source": []
  },
  {
   "cell_type": "code",
   "execution_count": null,
   "id": "8b019777",
   "metadata": {},
   "outputs": [],
   "source": []
  },
  {
   "cell_type": "code",
   "execution_count": null,
   "id": "8c5b8110",
   "metadata": {},
   "outputs": [],
   "source": []
  },
  {
   "cell_type": "code",
   "execution_count": null,
   "id": "e32311a7",
   "metadata": {},
   "outputs": [],
   "source": []
  },
  {
   "cell_type": "code",
   "execution_count": null,
   "id": "34920f56",
   "metadata": {},
   "outputs": [],
   "source": []
  },
  {
   "cell_type": "code",
   "execution_count": null,
   "id": "9817ae6e",
   "metadata": {},
   "outputs": [],
   "source": []
  },
  {
   "cell_type": "code",
   "execution_count": null,
   "id": "f81d0b07",
   "metadata": {},
   "outputs": [],
   "source": []
  },
  {
   "cell_type": "code",
   "execution_count": 64,
   "id": "7ea4e923",
   "metadata": {},
   "outputs": [],
   "source": [
    "def init_random_parameters (num_hidden = 2, deviation = 5):\n",
    "\n",
    "    W1  = np.random.rand(2,num_hidden)*deviation\n",
    "    b1 = np.random.random((num_hidden,1))*deviation\n",
    "    W2  = np.random.rand(num_hidden,1)*deviation\n",
    "    b2 = np.random.random((1,1))*deviation\n",
    "    return W1, b1, W2, b2"
   ]
  },
  {
   "cell_type": "code",
   "execution_count": 76,
   "id": "0ad84465",
   "metadata": {},
   "outputs": [
    {
     "data": {
      "image/png": "[encoded data removed]",
      "text/plain": [
       "<Figure size 432x288 with 1 Axes>"
      ]
     },
     "metadata": {
      "needs_background": "light"
     },
     "output_type": "display_data"
    }
   ],
   "source": [
    "import matplotlib.pyplot as plt\n",
    "params = init_random_parameters(2, 0.1)\n",
    "new_params, loss_trace, y_hat_predict = optimize(params, 0.1, 1000)\n",
    "# Plot learning curve (with costs)\n",
    "plt.plot(loss_trace)\n",
    "plt.ylabel('loss')\n",
    "plt.xlabel('iterations (per hundreds)')\n",
    "plt.show()"
   ]
  },
  {
   "cell_type": "code",
   "execution_count": null,
   "id": "647d2099",
   "metadata": {},
   "outputs": [],
   "source": []
  },
  {
   "cell_type": "markdown",
   "id": "bb378437",
   "metadata": {},
   "source": [
    "## 보류\n",
    "def init_random_parameters (num_hidden = 2, deviation = 5):\n",
    "\n",
    "    W1  = np.random.rand(2,num_hidden)*deviation\n",
    "    b1 = np.random.random((num_hidden,1))*deviation\n",
    "    W2  = np.random.rand(num_hidden,1)*deviation\n",
    "    b2 = np.random.random((1,1))*deviation\n",
    "    return W1, w10, W2, w20\n",
    "\n",
    "W1, w10, W2, w20 = init_random_parameters()"
   ]
  },
  {
   "cell_type": "code",
   "execution_count": 35,
   "id": "325be570",
   "metadata": {},
   "outputs": [
    {
     "data": {
      "text/plain": [
       "array([[1.99543768]])"
      ]
     },
     "execution_count": 35,
     "metadata": {},
     "output_type": "execute_result"
    }
   ],
   "source": [
    "np.sum(a3-y, axis=1, keepdims=True)"
   ]
  },
  {
   "cell_type": "markdown",
   "id": "79e372a1",
   "metadata": {},
   "source": [
    "# 검증"
   ]
  },
  {
   "cell_type": "code",
   "execution_count": 20,
   "id": "60f30a85",
   "metadata": {},
   "outputs": [
    {
     "data": {
      "text/plain": [
       "9.167747150936773e-05"
      ]
     },
     "execution_count": 20,
     "metadata": {},
     "output_type": "execute_result"
    }
   ],
   "source": [
    "print(np.sum(a1[0] * dadz2[0] * W2[0] * dadz * dcda))\n",
    "# 1.05188398e-08 \n",
    "print(round(1.0518839777343667e-08, 16))"
   ]
  }
 ],
 "metadata": {
  "kernelspec": {
   "display_name": "Python 3 (ipykernel)",
   "language": "python",
   "name": "python3"
  },
  "language_info": {
   "codemirror_mode": {
    "name": "ipython",
    "version": 3
   },
   "file_extension": ".py",
   "mimetype": "text/x-python",
   "name": "python",
   "nbconvert_exporter": "python",
   "pygments_lexer": "ipython3",
   "version": "3.9.12"
  }
 },
 "nbformat": 4,
 "nbformat_minor": 5
}
